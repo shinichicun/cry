{
 "cells": [
  {
   "cell_type": "code",
   "execution_count": 38,
   "metadata": {},
   "outputs": [
    {
     "name": "stdout",
     "output_type": "stream",
     "text": [
      "(-5, 0, -3, -6, -5, -4, -1, -7, -7, -2, -7, -5, -1, 0, -4, -6, -4, 0, -6, -5, -3, -1, -3, -6, -2, -1, -4, -2, -7, -5, -7, -3, -5, -6, -3, 0, -7, -1, 0, -7, -2, -5, -2, -7, -2, -3, -7, -5, -4, 0, -5, -1, -3, -2, 0, 0, -1, -1, -2, -5, -3, -5, 0, -5, -5, -6, -2, 0, -4, -1, -1, 0)\n",
      "NSSCTF{5036541772751046406531362142757356307107252723754051320011253505562041}\n",
      "over\n"
     ]
    }
   ],
   "source": [
    "from Crypto.Util.number import *\n",
    "p = 501785758961383005891491265699612686883993041794260611346802080899615437298977076093878384543577171\n",
    "c = 327005346153237517234971706274055111857447948791422192829214537757745905845319188257204611848165263\n",
    "\n",
    "\n",
    "L = Matrix(ZZ,72,72)\n",
    "\n",
    "temp = bytes_to_long(b\"NSSCTF{\") * 256^71 + bytes_to_long(b\"}\") \n",
    "for i in range(70):\n",
    "    temp += 48*256^(70-i)\n",
    "\n",
    "for i in range(70):\n",
    "    L[i,i] = 1\n",
    "    L[i,-1] = 256^(70-i)\n",
    "    \n",
    "L[-2,-2] = 1\n",
    "L[-2,-1] = temp - c\n",
    "L[-1,-1] = p\n",
    "ch = [j for j in range(8)]\n",
    "res = L.BKZ(block_size=16)\n",
    "for line in res:\n",
    "    m = \"\"\n",
    "    if line[-1] == 0 and abs(line[-2]) == 1:\n",
    "        flag = 1\n",
    "        for i in line[:-2]:\n",
    "            if abs(i) in ch:\n",
    "                m += str(abs(i))\n",
    "            else:\n",
    "                flag = 0\n",
    "        if flag:    \n",
    "            flag = \"NSSCTF{\" + m + \"}\"\n",
    "            print(line)\n",
    "            print(flag)\n",
    "print(\"over\")\n",
    "# NSSCTF{5036541772751046406531362142757356307107252723754051320011253505562041}"
   ]
  }
 ],
 "metadata": {
  "kernelspec": {
   "display_name": "SageMath 9.3",
   "language": "sage",
   "name": "sagemath"
  },
  "language_info": {
   "codemirror_mode": {
    "name": "ipython",
    "version": 3
   },
   "file_extension": ".py",
   "mimetype": "text/x-python",
   "name": "python",
   "nbconvert_exporter": "python",
   "pygments_lexer": "ipython3",
   "version": "3.7.10"
  }
 },
 "nbformat": 4,
 "nbformat_minor": 4
}
