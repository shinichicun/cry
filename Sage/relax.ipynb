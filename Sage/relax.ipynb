{
 "cells": [
  {
   "cell_type": "code",
   "execution_count": null,
   "id": "9e32dd4c-5651-44ce-a2b0-56dcbb2c755c",
   "metadata": {},
   "outputs": [],
   "source": [
    "# question\n",
    "#!/usr/bin/env sage\n",
    "\n",
    "from sage.all import *\n",
    "import random\n",
    "import itertools\n",
    "import os\n",
    "\n",
    "def add_noise(A):\n",
    "    theta_x = RR(uniform(-pi, pi))\n",
    "    Rx = matrix(RR, [[1, 0, 0], [0, cos(theta_x), -sin(theta_x)], [0, sin(theta_x), cos(theta_x)]])\n",
    "    A = Rx * A\n",
    "\n",
    "    theta_y = (theta_x^2 + 2*theta_x + 2) % RR(pi)\n",
    "    Ry = matrix(RR, [[cos(theta_y), 0, sin(theta_y)], [0, 1, 0], [-sin(theta_y), 0, cos(theta_y)]])\n",
    "    A = A * Ry\n",
    "\n",
    "    theta_z = (theta_y^3 + 3*theta_y^2 + theta_y + 3) % RR(pi)\n",
    "    Rz = matrix(RR, [[cos(theta_z), -sin(theta_z), 0], [sin(theta_z), cos(theta_z), 0], [0, 0, 1]])\n",
    "    A = Rz * A\n",
    "    return A\n",
    "\n",
    "\n",
    "ctr = 60\n",
    "secrets = [RR(uniform(-2,2)) for i in range(ctr)]\n",
    "\n",
    "ResultField = RealField(40)\n",
    "\n",
    "perm = list(itertools.permutations(range(3), int(2)))\n",
    "\n",
    "for secret_index in range(ctr):\n",
    "    # print(secrets[secret_index]\n",
    "    A = random_matrix(RR, 3, 3)\n",
    "    idx = random.choice(perm)\n",
    "\n",
    "    A[idx[0], idx[1]] = 100+secret_index\n",
    "    print(dumps(A).hex())\n",
    "    A[idx[0], idx[1]] = secrets[secret_index]\n",
    "\n",
    "    B = add_noise(A)\n",
    "    print(dumps(B).hex())\n",
    "\n",
    "    guess_secret = ResultField(input(f'Your guess: '))\n",
    "    assert str(ResultField(secrets[secret_index])) == str(guess_secret)\n",
    "\n",
    "print(os.getenv('FLAG', 'flag{test_test_test}'))\n"
   ]
  },
  {
   "cell_type": "code",
   "execution_count": 35,
   "id": "2785a73a-4533-4fbc-a89f-15be05d06036",
   "metadata": {},
   "outputs": [
    {
     "data": {
      "text/plain": [
       "-a5*cos(x)*cos(z) + a8*cos(z)*sin(x) - a5*cos(x)*sin(z) + a8*sin(x)*sin(z) + a2*cos(z) - a2*sin(z)"
      ]
     },
     "execution_count": 35,
     "metadata": {},
     "output_type": "execute_result"
    }
   ],
   "source": [
    "x, y, z = var(\"x y z\")\n",
    "a1, a2, m, a4, a5, a6, a7, a8, a9 = var('a1 a2 m a4 a5 a6 a7 a8 a9')\n",
    "Rx = matrix([[1, 0, 0], [0, cos(x), -sin(x)], [0, sin(x), cos(x)]])\n",
    "Rz = matrix([[cos(z), -sin(z), 0], [sin(z), cos(z), 0], [0, 0, 1]])\n",
    "Rz * Rx\n",
    "A = matrix(3, 3, [a1, a2, m, a4, a5, a6, a7, a8, a9])\n",
    "Ry = matrix([[cos(y), 0, sin(y)], [0, 1, 0], [-sin(y), 0, cos(y)]])\n",
    "X = Rz * Rx * A * Ry\n",
    "\n",
    "'''\n",
    "for i in range(3):\n",
    "    for j in range(3):\n",
    "        print(f\"X[{i}, {j}] = {X[i, j]}\")\n",
    "\n",
    "X[0, 0] = -(a4*cos(x)*sin(z) - a7*sin(x)*sin(z) - a1*cos(z))*cos(y) + (a6*cos(x)*sin(z) - a9*sin(x)*sin(z) - m*cos(z))*sin(y)\n",
    "\n",
    "X[0, 1] = -a5*cos(x)*sin(z) + a8*sin(x)*sin(z) + a2*cos(z)\n",
    "\n",
    "X[0, 2] = -(a6*cos(x)*sin(z) - a9*sin(x)*sin(z) - m*cos(z))*cos(y) - (a4*cos(x)*sin(z) - a7*sin(x)*sin(z) - a1*cos(z))*sin(y)\n",
    "\n",
    "X[1, 0] = (a4*cos(x)*cos(z) - a7*cos(z)*sin(x) + a1*sin(z))*cos(y) - (a6*cos(x)*cos(z) - a9*cos(z)*sin(x) + m*sin(z))*sin(y)\n",
    "\n",
    "X[1, 1] = a5*cos(x)*cos(z) - a8*cos(z)*sin(x) + a2*sin(z)\n",
    "\n",
    "X[1, 2] = (a6*cos(x)*cos(z) - a9*cos(z)*sin(x) + m*sin(z))*cos(y) + (a4*cos(x)*cos(z) - a7*cos(z)*sin(x) + a1*sin(z))*sin(y)\n",
    "\n",
    "X[2, 0] = (a7*cos(x) + a4*sin(x))*cos(y) - (a9*cos(x) + a6*sin(x))*sin(y)\n",
    "\n",
    "X[2, 1] = a8*cos(x) + a5*sin(x)\n",
    "\n",
    "X[2, 2] = (a9*cos(x) + a6*sin(x))*cos(y) + (a7*cos(x) + a4*sin(x))*sin(y)\n",
    "'''\n",
    "X[0, 1] - X[1, 1]\n"
   ]
  },
  {
   "cell_type": "code",
   "execution_count": 156,
   "id": "8972069b-e197-4d49-897f-0cfa08eed95f",
   "metadata": {},
   "outputs": [
    {
     "name": "stdout",
     "output_type": "stream",
     "text": [
      "[ -0.565356751259659  -0.843053021013349    100.000000000000]\n",
      "[  0.719532603991154  -0.361446801666869 -0.0770450883848048]\n",
      "[  0.103051156930052  -0.906829227516468  0.0506394054523691]\n",
      "Guess: \n",
      "0.47235603404\n",
      "3.6139486876\n",
      "-2.6692366195\n",
      "-0.33115008374\n",
      "2.8104425698\n",
      "-3.4727427373\n"
     ]
    }
   ],
   "source": [
    "A = loads(bytes.fromhex(\"789c8dcecd4fdb301806f0b0b2c1c2c6d7d8c636c6d8173024acb421d0de384c5ca2f5e05db8202b71dfa66e5237afed44bb2071abfa5f2f1f5dbb430ff8e20ffdfc3ecfc313ae8308c828304afc996d8e9dc954f038011badd3258045204109ce7a2035d8bf963de24afd511b95719329209914980153902ad0204d60c45816510a7a192f3e2cabc2741af07f09bfab33366695949091260a82848dd2beb219e3c5c50063b478bb1190f4580e4a17298e8dabbe37bd5db52c8b767f76f1e9049f515cf31b7e633a5831b87e8fcf276853dc9876eff0c5a312bad92804f55fc4cbc1daed4e91702e48cb0ca3a4a39256dbb93e6fe2a67f34c12d8adb83b94192773caf1d854a4495d929cd2ec55795d92a8c4b2e9cf9ba6ee25e295e537c5389ed4248e2a4f110637e99d7416f4bb24ff1dd222824c2d570e15e797c5c99f7a5f940f160615a04f430f624b8a62ef3b13487143fcda35cd289c679f3320e677d8f4af299e297c518431c9187716afa515de76b69be51fc3e1fd3244315b6fb0206bc26c72539a1780abe65f007c533f21762d1cae0\"))\n",
    "print(A)\n",
    "print(\"Guess: \")\n",
    "\n",
    "R.<x> = RR[]\n",
    "f = a * cos(x) + b * sin(x) - c\n",
    "ab = sqrt(a ^ 2 + b ^ 2)\n",
    "\n",
    "phi = arctan(a / b)\n",
    "g = ab * sin(x + phi) - c\n",
    "root = g.roots()[0][0]\n",
    "print(ResultField(RR(root)))\n",
    "print(ResultField(RR(root+pi)))\n",
    "print(ResultField(RR(root-pi)))\n",
    "\n",
    "phi = -arctan(a / b)\n",
    "g = ab * sin(x + phi) - c\n",
    "root = g.roots()[0][0]\n",
    "print(ResultField(RR(root)))\n",
    "print(ResultField(RR(root+pi)))\n",
    "print(ResultField(RR(root-pi)))"
   ]
  },
  {
   "cell_type": "code",
   "execution_count": 164,
   "id": "65e8f8f1-78e5-4988-a2da-b13146e7f302",
   "metadata": {},
   "outputs": [
    {
     "name": "stdout",
     "output_type": "stream",
     "text": [
      "[x] Opening connection to 89.169.156.185 on port 12912\n",
      "[x] Opening connection to 89.169.156.185 on port 12912: Trying 89.169.156.185\n",
      "[+] Opening connection to 89.169.156.185 on port 12912: Done\n",
      "[-0.257752824130976  0.219912099203804 -0.215848284213316]\n",
      "[  100.000000000000  0.904031291334605 -0.581246144456802]\n",
      "[-0.498258545511122 -0.670088985913882 -0.439920873683611]\n"
     ]
    },
    {
     "ename": "KeyboardInterrupt",
     "evalue": "",
     "output_type": "error",
     "traceback": [
      "\u001b[0;31m---------------------------------------------------------------------------\u001b[0m",
      "\u001b[0;31mKeyboardInterrupt\u001b[0m                         Traceback (most recent call last)",
      "Cell \u001b[0;32mIn[164], line 25\u001b[0m\n\u001b[1;32m     23\u001b[0m io \u001b[38;5;241m=\u001b[39m remote(\u001b[38;5;124m\"\u001b[39m\u001b[38;5;124m89.169.156.185\u001b[39m\u001b[38;5;124m\"\u001b[39m, Integer(\u001b[38;5;241m12912\u001b[39m))\n\u001b[1;32m     24\u001b[0m \u001b[38;5;28;01mfor\u001b[39;00m _ \u001b[38;5;129;01min\u001b[39;00m \u001b[38;5;28mrange\u001b[39m(Integer(\u001b[38;5;241m60\u001b[39m)):\n\u001b[0;32m---> 25\u001b[0m     A, B \u001b[38;5;241m=\u001b[39m \u001b[43mio\u001b[49m\u001b[38;5;241;43m.\u001b[39;49m\u001b[43mrecvuntil\u001b[49m\u001b[43m(\u001b[49m\u001b[38;5;124;43mb\u001b[39;49m\u001b[38;5;124;43m\"\u001b[39;49m\u001b[38;5;124;43mYour\u001b[39;49m\u001b[38;5;124;43m\"\u001b[39;49m\u001b[43m)\u001b[49m\u001b[38;5;241m.\u001b[39msplit(\u001b[38;5;124mb\u001b[39m\u001b[38;5;124m\"\u001b[39m\u001b[38;5;130;01m\\n\u001b[39;00m\u001b[38;5;124m\"\u001b[39m)[:\u001b[38;5;241m-\u001b[39mInteger(\u001b[38;5;241m1\u001b[39m)]\n\u001b[1;32m     26\u001b[0m     A, B \u001b[38;5;241m=\u001b[39m loads(\u001b[38;5;28mbytes\u001b[39m\u001b[38;5;241m.\u001b[39mfromhex(A\u001b[38;5;241m.\u001b[39mdecode())), loads(\u001b[38;5;28mbytes\u001b[39m\u001b[38;5;241m.\u001b[39mfromhex(B\u001b[38;5;241m.\u001b[39mdecode()))\n\u001b[1;32m     27\u001b[0m     \u001b[38;5;28mprint\u001b[39m(A)\n",
      "File \u001b[0;32m/usr/lib/python3.12/site-packages/pwnlib/tubes/tube.py:341\u001b[0m, in \u001b[0;36mtube.recvuntil\u001b[0;34m(self, delims, drop, timeout)\u001b[0m\n\u001b[1;32m    339\u001b[0m \u001b[38;5;28;01mwhile\u001b[39;00m \u001b[38;5;28mself\u001b[39m\u001b[38;5;241m.\u001b[39mcountdown_active():\n\u001b[1;32m    340\u001b[0m     \u001b[38;5;28;01mtry\u001b[39;00m:\n\u001b[0;32m--> 341\u001b[0m         res \u001b[38;5;241m=\u001b[39m \u001b[38;5;28;43mself\u001b[39;49m\u001b[38;5;241;43m.\u001b[39;49m\u001b[43mrecv\u001b[49m\u001b[43m(\u001b[49m\u001b[43mtimeout\u001b[49m\u001b[38;5;241;43m=\u001b[39;49m\u001b[38;5;28;43mself\u001b[39;49m\u001b[38;5;241;43m.\u001b[39;49m\u001b[43mtimeout\u001b[49m\u001b[43m)\u001b[49m\n\u001b[1;32m    342\u001b[0m     \u001b[38;5;28;01mexcept\u001b[39;00m \u001b[38;5;167;01mException\u001b[39;00m:\n\u001b[1;32m    343\u001b[0m         \u001b[38;5;28mself\u001b[39m\u001b[38;5;241m.\u001b[39munrecv(\u001b[38;5;124mb\u001b[39m\u001b[38;5;124m'\u001b[39m\u001b[38;5;124m'\u001b[39m\u001b[38;5;241m.\u001b[39mjoin(data) \u001b[38;5;241m+\u001b[39m top)\n",
      "File \u001b[0;32m/usr/lib/python3.12/site-packages/pwnlib/tubes/tube.py:106\u001b[0m, in \u001b[0;36mtube.recv\u001b[0;34m(self, numb, timeout)\u001b[0m\n\u001b[1;32m     75\u001b[0m \u001b[38;5;250m\u001b[39m\u001b[38;5;124mr\u001b[39m\u001b[38;5;124;03m\"\"\"recv(numb = 4096, timeout = default) -> bytes\u001b[39;00m\n\u001b[1;32m     76\u001b[0m \n\u001b[1;32m     77\u001b[0m \u001b[38;5;124;03mReceives up to `numb` bytes of data from the tube, and returns\u001b[39;00m\n\u001b[0;32m   (...)\u001b[0m\n\u001b[1;32m    103\u001b[0m \u001b[38;5;124;03m        b'Hello, world'\u001b[39;00m\n\u001b[1;32m    104\u001b[0m \u001b[38;5;124;03m\"\"\"\u001b[39;00m\n\u001b[1;32m    105\u001b[0m numb \u001b[38;5;241m=\u001b[39m \u001b[38;5;28mself\u001b[39m\u001b[38;5;241m.\u001b[39mbuffer\u001b[38;5;241m.\u001b[39mget_fill_size(numb)\n\u001b[0;32m--> 106\u001b[0m \u001b[38;5;28;01mreturn\u001b[39;00m \u001b[38;5;28;43mself\u001b[39;49m\u001b[38;5;241;43m.\u001b[39;49m\u001b[43m_recv\u001b[49m\u001b[43m(\u001b[49m\u001b[43mnumb\u001b[49m\u001b[43m,\u001b[49m\u001b[43m \u001b[49m\u001b[43mtimeout\u001b[49m\u001b[43m)\u001b[49m \u001b[38;5;129;01mor\u001b[39;00m \u001b[38;5;124mb\u001b[39m\u001b[38;5;124m'\u001b[39m\u001b[38;5;124m'\u001b[39m\n",
      "File \u001b[0;32m/usr/lib/python3.12/site-packages/pwnlib/tubes/tube.py:176\u001b[0m, in \u001b[0;36mtube._recv\u001b[0;34m(self, numb, timeout)\u001b[0m\n\u001b[1;32m    172\u001b[0m numb \u001b[38;5;241m=\u001b[39m \u001b[38;5;28mself\u001b[39m\u001b[38;5;241m.\u001b[39mbuffer\u001b[38;5;241m.\u001b[39mget_fill_size(numb)\n\u001b[1;32m    174\u001b[0m \u001b[38;5;66;03m# No buffered data, could not put anything in the buffer\u001b[39;00m\n\u001b[1;32m    175\u001b[0m \u001b[38;5;66;03m# before timeout.\u001b[39;00m\n\u001b[0;32m--> 176\u001b[0m \u001b[38;5;28;01mif\u001b[39;00m \u001b[38;5;129;01mnot\u001b[39;00m \u001b[38;5;28mself\u001b[39m\u001b[38;5;241m.\u001b[39mbuffer \u001b[38;5;129;01mand\u001b[39;00m \u001b[38;5;129;01mnot\u001b[39;00m \u001b[38;5;28;43mself\u001b[39;49m\u001b[38;5;241;43m.\u001b[39;49m\u001b[43m_fillbuffer\u001b[49m\u001b[43m(\u001b[49m\u001b[43mtimeout\u001b[49m\u001b[43m)\u001b[49m:\n\u001b[1;32m    177\u001b[0m     \u001b[38;5;28;01mreturn\u001b[39;00m \u001b[38;5;124mb\u001b[39m\u001b[38;5;124m'\u001b[39m\u001b[38;5;124m'\u001b[39m\n\u001b[1;32m    179\u001b[0m \u001b[38;5;28;01mreturn\u001b[39;00m \u001b[38;5;28mself\u001b[39m\u001b[38;5;241m.\u001b[39mbuffer\u001b[38;5;241m.\u001b[39mget(numb)\n",
      "File \u001b[0;32m/usr/lib/python3.12/site-packages/pwnlib/tubes/tube.py:155\u001b[0m, in \u001b[0;36mtube._fillbuffer\u001b[0;34m(self, timeout)\u001b[0m\n\u001b[1;32m    152\u001b[0m data \u001b[38;5;241m=\u001b[39m \u001b[38;5;124mb\u001b[39m\u001b[38;5;124m'\u001b[39m\u001b[38;5;124m'\u001b[39m\n\u001b[1;32m    154\u001b[0m \u001b[38;5;28;01mwith\u001b[39;00m \u001b[38;5;28mself\u001b[39m\u001b[38;5;241m.\u001b[39mlocal(timeout):\n\u001b[0;32m--> 155\u001b[0m     data \u001b[38;5;241m=\u001b[39m \u001b[38;5;28;43mself\u001b[39;49m\u001b[38;5;241;43m.\u001b[39;49m\u001b[43mrecv_raw\u001b[49m\u001b[43m(\u001b[49m\u001b[38;5;28;43mself\u001b[39;49m\u001b[38;5;241;43m.\u001b[39;49m\u001b[43mbuffer\u001b[49m\u001b[38;5;241;43m.\u001b[39;49m\u001b[43mget_fill_size\u001b[49m\u001b[43m(\u001b[49m\u001b[43m)\u001b[49m\u001b[43m)\u001b[49m\n\u001b[1;32m    157\u001b[0m \u001b[38;5;28;01mif\u001b[39;00m data \u001b[38;5;129;01mand\u001b[39;00m \u001b[38;5;28mself\u001b[39m\u001b[38;5;241m.\u001b[39misEnabledFor(logging\u001b[38;5;241m.\u001b[39mDEBUG):\n\u001b[1;32m    158\u001b[0m     \u001b[38;5;28mself\u001b[39m\u001b[38;5;241m.\u001b[39mdebug(\u001b[38;5;124m'\u001b[39m\u001b[38;5;124mReceived \u001b[39m\u001b[38;5;132;01m%#x\u001b[39;00m\u001b[38;5;124m bytes:\u001b[39m\u001b[38;5;124m'\u001b[39m \u001b[38;5;241m%\u001b[39m \u001b[38;5;28mlen\u001b[39m(data))\n",
      "File \u001b[0;32m/usr/lib/python3.12/site-packages/pwnlib/tubes/sock.py:39\u001b[0m, in \u001b[0;36msock.recv_raw\u001b[0;34m(self, numb, *a)\u001b[0m\n\u001b[1;32m     37\u001b[0m \u001b[38;5;28;01mwhile\u001b[39;00m \u001b[38;5;28;01mTrue\u001b[39;00m:\n\u001b[1;32m     38\u001b[0m     \u001b[38;5;28;01mtry\u001b[39;00m:\n\u001b[0;32m---> 39\u001b[0m         data \u001b[38;5;241m=\u001b[39m \u001b[38;5;28;43mself\u001b[39;49m\u001b[38;5;241;43m.\u001b[39;49m\u001b[43msock\u001b[49m\u001b[38;5;241;43m.\u001b[39;49m\u001b[43mrecv\u001b[49m\u001b[43m(\u001b[49m\u001b[43mnumb\u001b[49m\u001b[43m,\u001b[49m\u001b[43m \u001b[49m\u001b[38;5;241;43m*\u001b[39;49m\u001b[43ma\u001b[49m\u001b[43m)\u001b[49m\n\u001b[1;32m     40\u001b[0m         \u001b[38;5;28;01mbreak\u001b[39;00m\n\u001b[1;32m     41\u001b[0m     \u001b[38;5;28;01mexcept\u001b[39;00m socket\u001b[38;5;241m.\u001b[39mtimeout:\n",
      "File \u001b[0;32msrc/cysignals/signals.pyx:341\u001b[0m, in \u001b[0;36mcysignals.signals.python_check_interrupt\u001b[0;34m()\u001b[0m\n",
      "\u001b[0;31mKeyboardInterrupt\u001b[0m: "
     ]
    }
   ],
   "source": [
    "from pwn import *\n",
    "def solve(a, b, c):\n",
    "    R.<x> = RR[]\n",
    "    ab1 = sqrt(a ^ 2 + b ^ 2)\n",
    "    ab2 = -sqrt(a ^ 2 + b ^ 2)\n",
    "    phi = arctan(a / b)\n",
    "    g1 = ab1 * sin(x + phi) - c\n",
    "    g2 = ab2 * sin(x + phi) - c\n",
    "    root1 = g1.roots()[0][0]\n",
    "    root2 = g2.roots()[0][0]\n",
    "    root = [RR(root1), RR(root1 + pi), RR(root1 - pi), RR(root2), RR(root2 + pi), RR(root2 - pi)]\n",
    "    return root\n",
    "\n",
    "def reverse(B, theta_x):\n",
    "    theta_x = RR(theta_x)\n",
    "    Rx = matrix(RR, [[1, 0, 0], [0, cos(theta_x), -sin(theta_x)], [0, sin(theta_x), cos(theta_x)]])\n",
    "    theta_y = (theta_x^2 + 2*theta_x + 2) % RR(pi)\n",
    "    Ry = matrix(RR, [[cos(theta_y), 0, sin(theta_y)], [0, 1, 0], [-sin(theta_y), 0, cos(theta_y)]])\n",
    "    theta_z = (theta_y^3 + 3*theta_y^2 + theta_y + 3) % RR(pi)\n",
    "    Rz = matrix(RR, [[cos(theta_z), -sin(theta_z), 0], [sin(theta_z), cos(theta_z), 0], [0, 0, 1]])\n",
    "    A = Rx^(-1) * Rz^(-1) * B * Ry^(-1)\n",
    "    return A\n",
    "io = remote(\"89.169.156.185\", 12912)\n",
    "for _ in range(60):\n",
    "    A, B = io.recvuntil(b\"Your\").split(b\"\\n\")[:-1]\n",
    "    A, B = loads(bytes.fromhex(A.decode())), loads(bytes.fromhex(B.decode()))\n",
    "    print(A)"
   ]
  },
  {
   "cell_type": "code",
   "execution_count": 2,
   "id": "f34692f7-26e1-49b6-bbab-c1ffd278960b",
   "metadata": {},
   "outputs": [
    {
     "data": {
      "text/plain": [
       "b'\\x83\\x98s\\x0bY\\xdf\\x85\\x1c\\xba\\xc6\\xd6Ps\\xf9\\xe18'"
      ]
     },
     "execution_count": 2,
     "metadata": {},
     "output_type": "execute_result"
    }
   ],
   "source": []
  }
 ],
 "metadata": {
  "kernelspec": {
   "display_name": "SageMath 10.4",
   "language": "sage",
   "name": "sagemath"
  },
  "language_info": {
   "codemirror_mode": {
    "name": "ipython",
    "version": 3
   },
   "file_extension": ".py",
   "mimetype": "text/x-python",
   "name": "python",
   "nbconvert_exporter": "python",
   "pygments_lexer": "ipython3",
   "version": "3.12.6"
  }
 },
 "nbformat": 4,
 "nbformat_minor": 5
}
