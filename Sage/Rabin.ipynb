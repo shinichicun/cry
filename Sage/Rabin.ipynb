{
 "cells": [
  {
   "cell_type": "code",
   "execution_count": 8,
   "metadata": {},
   "outputs": [
    {
     "name": "stdout",
     "output_type": "stream",
     "text": [
      "b'1\\xe70\\xb7\\xfcw\\xd4\\xd8JH\\xec\\xb3w\\x9f\\xa1=<\\xc4\\x1f\\\\K\\x83\\x11kx\\xc3\\xfd\\xebd@\\x04\\x06`.\\xc9\\xbc=n\\xcbB0BWJ\\xf7\\xf9\\x9dM\\x12\\xdd;J\\xa4\\xd7z\\xf9\\xd9\\xa6\\xf9M\\xecD\\xc0r'\n",
      "\n",
      "\n",
      "b'&\\xb3\\x18E\\xa0\"atJ+\\xabM\\xb0:\\x91\\x13A\\x9fPP\\xa0D8=\\xbfA\\xe2\\x9bc%\\xf4\"\\x83\\x97\\xa4 |\\xec\\t\\xbf\\xbf\\xebN\\xc3\\x11\\nT\\xed\\xd6\\x1d\\xee\\xaa<\\xff\\x9f\\xab\\xf5TA%\\xc7-\\x04\\xd7'\n",
      "\n",
      "\n",
      "b\"X\\x9aH\\xfd\\x9c\\x9a6L\\x94t\\x98\\x01'\\xda2P~co\\xac\\x9ds\\xf6e\\xe3\\xbfeMd/\\xc1\\xf8\\xaf\\x8f\\n\\xaf\\x83(p\\xa0\\xc2\\xf9l\\xab\\xd2\\xd6\\xb9\\x02\\xb3\\xc4\\xfc\\xc4\\xb1p\\xb6q\\x98\\xc2\\x04:M\\x0e\\x8d\\xcc\"\n",
      "\n",
      "\n",
      "b'NSSCTF{9c66047c-72da-49b6-9856-00fd46969fc7}'\n",
      "\n",
      "\n"
     ]
    }
   ],
   "source": [
    "from Crypto.Util.number import *\n",
    "from gmpy2 import *\n",
    "# from pwn import *\n",
    "\n",
    "# p = remote('node3.anna.nssctf.cn',28709)\n",
    "# p.interactive()\n",
    "\n",
    "p = 59146104467364373868799971411233588834178779836823785905639649355194168174467\n",
    "q = 78458230412463183024731868185916348923227701568297699614451375213784918571587\n",
    "c = 1203393285445255679455330581174083350744414151272999693874069337386260499408999133487149585390696161509841251500970131235102423165932460197848215104528310\n",
    "\n",
    "e = 4\n",
    "n = p * q\n",
    "\"\"\"p = gcd(n,(num1 + num2 ) % n)\n",
    "q = n//p\"\"\"\n",
    "\n",
    "cs = [c]\n",
    "\n",
    "def rabin_decrypt(c,p,q):\n",
    "    mp = Integer(pow(c, (p + 1) // 4, p))\n",
    "    mq = Integer(pow(c, (q + 1) // 4, q))\n",
    "\n",
    "    yp = inverse(p,q)\n",
    "    yq = inverse(q,p)\n",
    "\n",
    "    r = (yp * p * mq + yq * q * mp) % n\n",
    "    r_ = n - r\n",
    "    s = (yp * p * mq - yq * q * mp) % n\n",
    "    s_ = n - s\n",
    "    return r,r_,s,s_\n",
    "\n",
    "for i in range(iroot(e, 2)[0]):\n",
    "    ps = []\n",
    "\n",
    "    for c2 in cs:\n",
    "        r,r_,s,s_ = rabin_decrypt(c2,p,q)\n",
    "        if r not in ps:\n",
    "            ps.append(r)\n",
    "        if r_ not in ps:\n",
    "            ps.append(r_)\n",
    "        if s not in ps:\n",
    "            ps.append(s)\n",
    "        if s_ not in ps:\n",
    "            ps.append(s_)\n",
    "   # print(ps)\n",
    "    cs = ps\n",
    "\n",
    "for i in range(len(cs)):\n",
    "    print(long_to_bytes(cs[i]))\n",
    "    print(\"\\n\")"
   ]
  }
 ],
 "metadata": {
  "kernelspec": {
   "display_name": "SageMath 9.3",
   "language": "sage",
   "name": "sagemath"
  },
  "language_info": {
   "codemirror_mode": {
    "name": "ipython",
    "version": 3
   },
   "file_extension": ".py",
   "mimetype": "text/x-python",
   "name": "python",
   "nbconvert_exporter": "python",
   "pygments_lexer": "ipython3",
   "version": "3.7.10"
  }
 },
 "nbformat": 4,
 "nbformat_minor": 4
}
