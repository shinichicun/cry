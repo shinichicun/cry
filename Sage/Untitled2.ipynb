{
 "cells": [
  {
   "cell_type": "code",
   "execution_count": 10,
   "metadata": {
    "scrolled": true
   },
   "outputs": [
    {
     "data": {
      "text/plain": [
       "[1, 0, 2, 0, 0, 2, 0, 2, 2, 2, 0, 1, 2, 2, 1, 1, 1, 1, 1, 1, 0]"
      ]
     },
     "execution_count": 10,
     "metadata": {},
     "output_type": "execute_result"
    }
   ],
   "source": [
    "T = 3\n",
    "def baseT(n, b=T):\n",
    "    v = []\n",
    "    while True:\n",
    "        x = n // b\n",
    "        y = n % b\n",
    "        v.append(y)\n",
    "        if x == 0:\n",
    "            break\n",
    "        n = x\n",
    "    v.reverse()\n",
    "    return v\n",
    "baseT(2**32-10)"
   ]
  }
 ],
 "metadata": {
  "kernelspec": {
   "display_name": "SageMath 9.3",
   "language": "sage",
   "name": "sagemath"
  },
  "language_info": {
   "codemirror_mode": {
    "name": "ipython",
    "version": 3
   },
   "file_extension": ".py",
   "mimetype": "text/x-python",
   "name": "python",
   "nbconvert_exporter": "python",
   "pygments_lexer": "ipython3",
   "version": "3.7.10"
  }
 },
 "nbformat": 4,
 "nbformat_minor": 4
}
