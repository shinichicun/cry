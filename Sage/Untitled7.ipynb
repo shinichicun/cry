{
 "cells": [
  {
   "cell_type": "code",
   "execution_count": 5,
   "id": "3fdbfdc3-dc10-435b-804d-529c1fdd3c45",
   "metadata": {},
   "outputs": [
    {
     "name": "stdout",
     "output_type": "stream",
     "text": [
      "factor:9,Discrete Log,1\n",
      "factor:2351,Discrete Log,187\n",
      "factor:681409,Discrete Log,229642\n",
      "factor:876987809,Discrete Log,437884719\n",
      "factor:992793779,Discrete Log,979254261\n",
      "factor:20667057251,Discrete Log,12386699457\n"
     ]
    },
    {
     "name": "stderr",
     "output_type": "stream",
     "text": [
      "100%|███████████████████████████████████████████████████████████████████████████| 1024/1024 [00:00<00:00, 274176.02it/s]"
     ]
    },
    {
     "name": "stdout",
     "output_type": "stream",
     "text": [
      "3 b'TFCCTF{cUrv3mAn}'\n"
     ]
    },
    {
     "name": "stderr",
     "output_type": "stream",
     "text": [
      "\n"
     ]
    }
   ],
   "source": [
    "from Crypto.Util.number import *\n",
    "from tqdm import *\n",
    "p = 1154543773027194978300531105544404721440832315984713424625039\n",
    "g = 2\n",
    "shared = 402113601428366342696431869032557897083731797317493784435006\n",
    "p_curve = 4470115461512684340891257138125051110076800700282905015819080092370422104067183317016903680000000000000001\n",
    "a_curve = 35220\n",
    "P = (2657787570873788984421505845816030460894575462255730083268981478340023159695752055882456753095080728020245, 3136775130293285645369229217440351745972168134980495333248304151472191916896934800556014504964987789446302)\n",
    "# discrete_log(shared, g, p)\n",
    "# factor(p-1)\n",
    "\n",
    "#./cado-nfs.py -dlp -ell 900580166167858797426311314777226771794720995307888786759 target=402113601428366342696431869032557897083731797317493784435006 1154543773027194978300531105544404721440832315984713424625039\n",
    "#./cado-nfs.py /tmp/cado.lb___9h4/p60.parameters_snapshot.0 target=2\n",
    "\"\"\"\n",
    "p = 1154543773027194978300531105544404721440832315984713424625039\n",
    "R = GF(p)\n",
    "g = R(2)\n",
    "gx = R(589382223336825905353017404337901190007770052877203421235378)\n",
    "ell = 900580166167858797426311314777226771794720995307888786759\n",
    "log_h = 111270740385896313121738209836250850590005557680713441944\n",
    "log_g = 300940560519505896843378829474459141646684816885281767472\n",
    "temp = log_h * inverse_mod(log_g, ell) % ell\n",
    "print(temp)\n",
    "print(g^temp)\n",
    "print(gx)  # 验证一下\n",
    "\"\"\"\n",
    "secret = 3182763716837142378046258424310770114697574212011835\n",
    "b_curve = int((P1[1]**2-P1[0]**3-a_curve*P1[0])%p_curve)\n",
    "Z = GF(p_curve)\n",
    "E = EllipticCurve(Z, [a_curve,b_curve])\n",
    "# G = E.lift_x(Z(secret))\n",
    "G = E(3182763716837142378046258424310770114697574212011835,2312946128953497569445083537734048164871112582045360268346156095918010577593177039498521291057451954433727)\n",
    "P = E(P1)\n",
    "n = E.order()\n",
    "# primes = [i[0]**i[1] for i in list(factor(n))]\n",
    "primes = [9, 2351, 681409, 876987809, 992793779, 20667057251]\n",
    "# primes = [9, 2351, 681409, 876987809, 992793779, 20667057251, 17229968799761915831961648039300568398720910455733592221895507193323]\n",
    "# print(primes)\n",
    "# print(factor(17229968799761915831961648039300568398720910455733592221895507193323))\n",
    "dlogs = []\n",
    "for fac in primes:\n",
    "    t = int(n//fac)\n",
    "    dlog = discrete_log(t*P,t*G,operation=\"+\")\n",
    "    dlogs += [dlog]\n",
    "    print(\"factor:\"+str(fac)+\",Discrete Log,\"+str(dlog))\n",
    "res = int(crt(dlogs, primes))\n",
    "for i in trange(2**10):\n",
    "    flag = long_to_bytes(res + E.order()//(9*17229968799761915831961648039300568398720910455733592221895507193323)*i)\n",
    "    if flag[:7] == b\"TFCCTF{\":\n",
    "        print(i, flag)"
   ]
  },
  {
   "cell_type": "code",
   "execution_count": null,
   "id": "f268e3e5-09ab-471c-b8d9-7d0f357f0928",
   "metadata": {},
   "outputs": [],
   "source": [
    "import base64\n",
    "from Crypto.Cipher import AES\n",
    "from Crypto.Util.Padding import pad\n",
    "from Crypto.Util.number import *\n",
    "from os import urandom\n",
    "\"\"\"\n",
    "\n",
    "key = urandom(8)*2\n",
    "\n",
    "LENGTH = len(key)\n",
    "assert LENGTH == 16\n",
    "\n",
    "hint = urandom(4) * 8\n",
    "print('tmp=',bytes_to_long(hint[:16])^bytes_to_long(key[:8]))\n",
    "\n",
    "iv = b'Hnusec{********}'\n",
    "\n",
    "class LCG:\n",
    "    def __init__(self, seed, a, b, m):\n",
    "        self.seed = seed  # 初始种子\n",
    "        self.a = a  # 乘数\n",
    "        self.b = b  # 增量\n",
    "        self.m = m  # 模数\n",
    "        self.iv = False\n",
    "\n",
    "    def generate(self):\n",
    "        self.seed = (self.a * self.seed + self.b) % self.m\n",
    "        res = self.seed\n",
    "\n",
    "        if self.iv:\n",
    "            self.seed = (self.a * self.seed + self.b) % self.m\n",
    "            res ^= self.seed\n",
    "            self.iv = False\n",
    "        else:\n",
    "            self.iv = True\n",
    "\n",
    "        return res\n",
    "\n",
    "\n",
    "lcg = LCG(getPrime(255), getPrime(255), getPrime(255), getPrime(256))\n",
    "\n",
    "c = []\n",
    "\n",
    "for i in iv:\n",
    "    c.append(lcg.generate() ^ i)\n",
    "print('c=', c)\n",
    "print('m=', lcg.m)\n",
    "\n",
    "cipher = AES.new(key, AES.MODE_CBC, iv)\n",
    "plaintext = pad(flag, AES.block_size)\n",
    "ciphertext = cipher.encrypt(plaintext)\n",
    "ciphertext = base64.b64encode(ciphertext)\n",
    "print('ciphertext=', ciphertext)\n",
    "\n",
    "\"\"\"\n",
    "tmp= 18423908568281801574383445035968032560\n",
    "c= [87880271235950369768921925251475775359020326316264869953765827991040868700573, 41730015766635027064951101729239470238566058079255221101578278971594251142827, 82050767231219098184409933960274299446102060790984659446156697330186743405405, 102205981183968487329905302860875212596486217047111237839978584628840824039356, 30196415524524031983557661260797597947263213509350148639922814339454440061693, 82387566625801631381732607787072508839322738197141951083412364044629381155720, 33262124984279158054160469861363045721091124916058361913130543383308441279998, 13184401405636784112555453557810794183678685834021802324403206458835564426665, 35059919189059710655423133508895456883260620369829581018812107165492033513234, 65366257051327293153278564301346910657789235675034936380498962078142539546367, 32771894817582550190980925098619520366870172835901958716164123787365613874158, 94718394568143749438740137543160732331025028047391264537207824890777864129347, 33077665867186615566659796178722862576977880069030082520762653970516340593097, 46073683220112271494977495436238529588589718404997095053095608134086205173429, 87749223758903452081754836935952093566488962202082563284781309669773645275071, 9307737005976123431179167422763082882720291705062936895196658315018285320781]\n",
    "m= 88533823251860922478946418063458908577231140365386595673004704882321557700769\n",
    "ciphertext= b'30WwqrMm4e+3XUPe8JxfIV4pjezuC8baiTB0/knSIwA='\n"
   ]
  },
  {
   "cell_type": "code",
   "execution_count": 6,
   "id": "b6dd26e8-9e4a-4b3e-8a74-f01a497db451",
   "metadata": {},
   "outputs": [
    {
     "name": "stderr",
     "output_type": "stream",
     "text": [
      "100%|███████████████████████████████████████████████████████████████████████████████| 2744/2744 [02:12<00:00, 20.78it/s]\n",
      "  5%|████▏                                                                           | 142/2744 [00:07<02:23, 18.11it/s]"
     ]
    },
    {
     "name": "stdout",
     "output_type": "stream",
     "text": [
      "b'_c*A?Sc=eA_*'\n",
      "b'crew{m1tm_at74cK_1s_g0lD_4nd_py7h0n_i5_sl0w!!}\\x02\\x02'\n"
     ]
    },
    {
     "name": "stderr",
     "output_type": "stream",
     "text": [
      "\n"
     ]
    }
   ],
   "source": [
    "\"\"\"\n",
    "#!/usr/bin/env python3\n",
    "\n",
    "from hashlib import sha256\n",
    "from random import choices\n",
    "\n",
    "from Crypto.Cipher import AES\n",
    "from Crypto.Util.Padding import pad\n",
    "\n",
    "\n",
    "with open('flag.txt', 'rb') as f:\n",
    "    FLAG = f.read().strip()\n",
    "\n",
    "chars = b'crew_AES*4=$!?'\n",
    "L = 3\n",
    "\n",
    "w, x, y, z = (\n",
    "    bytes(choices(chars, k=L)),\n",
    "    bytes(choices(chars, k=L)),\n",
    "    bytes(choices(chars, k=L)),\n",
    "    bytes(choices(chars, k=L)),\n",
    ")\n",
    "\n",
    "k1 = sha256(w).digest()\n",
    "k2 = sha256(x).digest()\n",
    "k3 = sha256(y).digest()\n",
    "k4 = sha256(z).digest()\n",
    "\n",
    "print(w.decode(), x.decode(), y.decode(), z.decode())\n",
    "\n",
    "pt = b'AES_AES_AES_AES!'\n",
    "ct = AES.new(k4, AES.MODE_ECB).encrypt(\n",
    "         AES.new(k3, AES.MODE_ECB).encrypt(\n",
    "             AES.new(k2, AES.MODE_ECB).encrypt(\n",
    "                 AES.new(k1, AES.MODE_ECB).encrypt(\n",
    "                     pt\n",
    "                 )\n",
    "             )\n",
    "         )\n",
    "     )\n",
    "\n",
    "key = sha256(w + x + y + z).digest()\n",
    "enc_flag = AES.new(key, AES.MODE_ECB).encrypt(pad(FLAG, AES.block_size))\n",
    "\n",
    "with open('output.txt', 'w') as f:\n",
    "    f.write(f'pt = {pt.hex()}\\nct = {ct.hex()}\\nenc_flag = {enc_flag.hex()}')\n",
    "\"\"\"\n",
    "from hashlib import sha256\n",
    "from random import choices\n",
    "from Crypto.Cipher import AES\n",
    "from Crypto.Util.Padding import pad\n",
    "import itertools\n",
    "import tqdm\n",
    "from time import sleep\n",
    "chars = b'crew_AES*4=$!?'\n",
    "L = 3\n",
    "pt = bytes.fromhex(\"4145535f4145535f4145535f41455321\")\n",
    "ct = bytes.fromhex(\"edb43249be0d7a4620b9b876315eb430\")\n",
    "enc_flag = \"e5218894e05e14eb7cc27dc2aeed10245bfa4426489125a55e82a3d81a15d18afd152d6c51a7024f05e15e1527afa84b\"\n",
    "res = [bytes(i) for i in itertools.product(chars, repeat=3)]\n",
    "pro = [sha256(i).digest() for i in res]\n",
    "pt1 = {}\n",
    "for k2 in tqdm.tqdm(res):\n",
    "    for k1 in res:\n",
    "        pt2 = AES.new(sha256(k2).digest(), AES.MODE_ECB).encrypt(AES.new(sha256(k1).digest(), AES.MODE_ECB).encrypt(pt))\n",
    "        pt1[pt2]=k1+k2\n",
    "flag = 0\n",
    "for k3 in tqdm.tqdm(res):\n",
    "    for k4 in res:\n",
    "        ct1 = AES.new(sha256(k3).digest(), AES.MODE_ECB).decrypt(AES.new(sha256(k4).digest(), AES.MODE_ECB).decrypt(ct))\n",
    "        try:\n",
    "            print(pt1[ct1]+k3+k4)\n",
    "            key = sha256(pt1[ct1]+k3+k4).digest()\n",
    "            flag = AES.new(key, AES.MODE_ECB).decrypt(bytes.fromhex(enc_flag))\n",
    "            print(flag)\n",
    "            break\n",
    "        except:\n",
    "            pass\n",
    "    if flag:\n",
    "        break"
   ]
  },
  {
   "cell_type": "code",
   "execution_count": 2,
   "id": "c57ae897-4fa9-4aa4-a0fe-4689ce2da220",
   "metadata": {},
   "outputs": [
    {
     "name": "stderr",
     "output_type": "stream",
     "text": [
      " 14%|███████████▎                                                                     | 14/100 [00:00<00:00, 119.53it/s]"
     ]
    },
    {
     "name": "stdout",
     "output_type": "stream",
     "text": [
      "b''\n"
     ]
    },
    {
     "name": "stderr",
     "output_type": "stream",
     "text": [
      " 59%|████████████████████████████████████████████████▍                                 | 59/100 [00:23<00:57,  1.39s/it]"
     ]
    },
    {
     "name": "stdout",
     "output_type": "stream",
     "text": [
      "b'crew{D1d_y0u_3xp3cT_LLL_t0_b3_h1Dd3n_b3tw3en_th3_l1n3s???}'\n"
     ]
    },
    {
     "name": "stderr",
     "output_type": "stream",
     "text": [
      " 60%|█████████████████████████████████████████████████▏                                | 60/100 [00:25<00:58,  1.47s/it]"
     ]
    },
    {
     "name": "stdout",
     "output_type": "stream",
     "text": [
      "b'crew{D1d_y0u_3xp3cT_LLL_t0_b3_h1Dd3n_b3tw3en_th3_l1n3s???}\\x00'\n"
     ]
    },
    {
     "name": "stderr",
     "output_type": "stream",
     "text": [
      " 61%|██████████████████████████████████████████████████                                | 61/100 [00:27<01:03,  1.64s/it]"
     ]
    },
    {
     "name": "stdout",
     "output_type": "stream",
     "text": [
      "b'crew{D1d_y0u_3xp3cT_LLL_t0_b3_h1Dd3n_b3tw3en_th3_l1n3s???}\\x00\\x00'\n"
     ]
    },
    {
     "name": "stderr",
     "output_type": "stream",
     "text": [
      " 61%|██████████████████████████████████████████████████                                | 61/100 [00:28<00:17,  2.17it/s]\n"
     ]
    },
    {
     "ename": "KeyboardInterrupt",
     "evalue": "",
     "output_type": "error",
     "traceback": [
      "\u001b[0;31m---------------------------------------------------------------------------\u001b[0m",
      "\u001b[0;31mKeyboardInterrupt\u001b[0m                         Traceback (most recent call last)",
      "Cell \u001b[0;32mIn[2], line 26\u001b[0m\n\u001b[1;32m     24\u001b[0m         B[i, \u001b[38;5;241m-\u001b[39mInteger(\u001b[38;5;241m1\u001b[39m)] \u001b[38;5;241m=\u001b[39m n\n\u001b[1;32m     25\u001b[0m B[\u001b[38;5;241m-\u001b[39mInteger(\u001b[38;5;241m1\u001b[39m), \u001b[38;5;241m-\u001b[39mInteger(\u001b[38;5;241m1\u001b[39m)] \u001b[38;5;241m=\u001b[39m c\n\u001b[0;32m---> 26\u001b[0m L \u001b[38;5;241m=\u001b[39m \u001b[43mB\u001b[49m\u001b[38;5;241;43m.\u001b[39;49m\u001b[43mBKZ\u001b[49m\u001b[43m(\u001b[49m\u001b[43m)\u001b[49m\n\u001b[1;32m     27\u001b[0m l \u001b[38;5;241m=\u001b[39m L[Integer(\u001b[38;5;241m0\u001b[39m)]\n\u001b[1;32m     28\u001b[0m \u001b[38;5;28;01mif\u001b[39;00m \u001b[38;5;28mall\u001b[39m(Integer(\u001b[38;5;241m0\u001b[39m)\u001b[38;5;241m<\u001b[39m\u001b[38;5;241m=\u001b[39m\u001b[38;5;28mabs\u001b[39m(i)\u001b[38;5;241m<\u001b[39m\u001b[38;5;241m=\u001b[39mInteger(\u001b[38;5;241m128\u001b[39m) \u001b[38;5;28;01mfor\u001b[39;00m i \u001b[38;5;129;01min\u001b[39;00m l[:\u001b[38;5;241m-\u001b[39mInteger(\u001b[38;5;241m2\u001b[39m)]):\n",
      "File \u001b[0;32m/usr/lib/python3.12/site-packages/sage/matrix/matrix_integer_dense.pyx:2944\u001b[0m, in \u001b[0;36msage.matrix.matrix_integer_dense.Matrix_integer_dense.BKZ (build/cythonized/sage/matrix/matrix_integer_dense.cpp:37950)\u001b[0;34m()\u001b[0m\n\u001b[1;32m   2942\u001b[0m \n\u001b[1;32m   2943\u001b[0m             A = IntegerMatrix.from_matrix(self)\n\u001b[0;32m-> 2944\u001b[0m             BKZ.reduction(A, BKZ.Param(block_size=block_size, delta=delta, **kwds),\n\u001b[1;32m   2945\u001b[0m                           float_type=fp_,\n\u001b[1;32m   2946\u001b[0m                           precision=precision)\n",
      "File \u001b[0;32msrc/fpylll/fplll/bkz.pyx:1129\u001b[0m, in \u001b[0;36mfpylll.fplll.bkz.bkz_reduction\u001b[0;34m()\u001b[0m\n",
      "\u001b[0;31mKeyboardInterrupt\u001b[0m: "
     ]
    }
   ],
   "source": [
    "from tqdm import trange\n",
    "from subprocess import check_output\n",
    "\n",
    "\n",
    "def flatter(M):\n",
    "    # compile https://github.com/keeganryan/flatter and put it in $PATH\n",
    "    z = \"[[\" + \"]\\n[\".join(\" \".join(map(str, row)) for row in M) + \"]]\"\n",
    "    ret = check_output([\"flatter\"], input=z.encode())\n",
    "    from re import findall\n",
    "\n",
    "    return matrix(M.nrows(), M.ncols(), map(int, findall(b\"-?\\\\d+\", ret)))\n",
    "\n",
    "n = 11570808501273498927205104472079357777144397783547577003261915477370622451850206651910891120280656785986131452685491947610185604965099812695724757402859475642728712507339243719470339385360489167163917896790337311025010411472770004154699635694228288241644459059047022175803135613130088955955784304814651652968093606122165353931816218399854348992145474578604378450397120697338449008564443654507099674564425806985914764451503302534957447420607432031160777343573246284259196721263134079273058943290282037058625166146116257062155250082518648908934265839606175181213963034023613042840174068936799861096078962793675747202733\n",
    "e = 65537\n",
    "c = 7173375037180308812692773050925111800516611450262181376565814072240874778848184114081029784942289615261118103256642605595499455054072839201835361613983341298973366881719999836078559255521052298848572778824157749016705221745378832156499718149327219324078487796923208917482260462508048311400560933782289383624341257636666638574026084246212442527379161504510054689077339758167386002420794571246577662116285770044542212097174474572856621921237686119958817024794843805169504594110217925148205714768001753113572920225449523882995273988088672624172009740852821725803438069557080740459068347366098974487213070886509931010623\n",
    "for k in trange(100):\n",
    "    B = zero_matrix(ZZ, k + 2)\n",
    "    for i in range(k + 1):\n",
    "        B[i, i] = 1\n",
    "        B[-1, i] = 0\n",
    "        if i != k:\n",
    "            B[i, -1] = pow(i + 0x1337, e, n)\n",
    "        else:\n",
    "            B[i, -1] = n\n",
    "    B[-1, -1] = c\n",
    "    L = B.BKZ()\n",
    "    l = L[0]\n",
    "    if all(0<=abs(i)<=128 for i in l[:-2]) and l != []:\n",
    "        flag = bytes([abs(i) for i in l[:-2]])\n",
    "        if flag[:4] == b\"crew\":\n",
    "            print(flag)\n",
    "            break"
   ]
  },
  {
   "cell_type": "code",
   "execution_count": 2,
   "id": "5b4addc6-7403-4862-99b2-b39831e012e2",
   "metadata": {},
   "outputs": [
    {
     "name": "stderr",
     "output_type": "stream",
     "text": [
      " 77%|████████████████████████████████████████████████████████████▋                  | 787/1024 [00:03<00:00, 254.64it/s]\n"
     ]
    },
    {
     "name": "stdout",
     "output_type": "stream",
     "text": [
      "[73982544977729559766990849135314963395060751482839906956589987598733935389711]\n",
      "b'HnuCTF{e4fb4396-21be-403e-a194-c3e7d0d95379}\\x04\\x04\\x04\\x04'\n"
     ]
    },
    {
     "ename": "AttributeError",
     "evalue": "'sage.rings.integer.Integer' object has no attribute 'monic'",
     "output_type": "error",
     "traceback": [
      "\u001b[0;31m---------------------------------------------------------------------------\u001b[0m",
      "\u001b[0;31mAttributeError\u001b[0m                            Traceback (most recent call last)",
      "Cell \u001b[0;32mIn[2], line 18\u001b[0m\n\u001b[1;32m     16\u001b[0m \u001b[38;5;28;01mfor\u001b[39;00m j \u001b[38;5;129;01min\u001b[39;00m \u001b[38;5;28mrange\u001b[39m(Integer(\u001b[38;5;241m2\u001b[39m), Integer(\u001b[38;5;241m11\u001b[39m)):\n\u001b[1;32m     17\u001b[0m     f \u001b[38;5;241m=\u001b[39m \u001b[38;5;28mpow\u001b[39m(p, Integer(\u001b[38;5;241m2\u001b[39m))\u001b[38;5;241m*\u001b[39m\u001b[38;5;28mpow\u001b[39m(j, Integer(\u001b[38;5;241m2\u001b[39m))\u001b[38;5;241m+\u001b[39mi\u001b[38;5;241m*\u001b[39mp\u001b[38;5;241m-\u001b[39mn\n\u001b[0;32m---> 18\u001b[0m     res \u001b[38;5;241m=\u001b[39m \u001b[43mf\u001b[49m\u001b[38;5;241;43m.\u001b[39;49m\u001b[43mmonic\u001b[49m()\u001b[38;5;241m.\u001b[39msmall_roots()\n\u001b[1;32m     19\u001b[0m     \u001b[38;5;28;01mif\u001b[39;00m res \u001b[38;5;129;01mand\u001b[39;00m res \u001b[38;5;241m!=\u001b[39m [Integer(\u001b[38;5;241m0\u001b[39m)]:\n\u001b[1;32m     20\u001b[0m         \u001b[38;5;28mprint\u001b[39m(res)\n",
      "File \u001b[0;32m/usr/lib/python3.12/site-packages/sage/structure/element.pyx:495\u001b[0m, in \u001b[0;36msage.structure.element.Element.__getattr__ (build/cythonized/sage/structure/element.c:11828)\u001b[0;34m()\u001b[0m\n\u001b[1;32m    493\u001b[0m         AttributeError: 'LeftZeroSemigroup_with_category.element_class' object has no attribute 'blah_blah'...\n\u001b[1;32m    494\u001b[0m     \"\"\"\n\u001b[0;32m--> 495\u001b[0m     return self.getattr_from_category(name)\n\u001b[1;32m    496\u001b[0m \n\u001b[1;32m    497\u001b[0m cdef getattr_from_category(self, name):\n",
      "File \u001b[0;32m/usr/lib/python3.12/site-packages/sage/structure/element.pyx:508\u001b[0m, in \u001b[0;36msage.structure.element.Element.getattr_from_category (build/cythonized/sage/structure/element.c:11938)\u001b[0;34m()\u001b[0m\n\u001b[1;32m    506\u001b[0m     else:\n\u001b[1;32m    507\u001b[0m         cls = P._abstract_element_class\n\u001b[0;32m--> 508\u001b[0m     return getattr_from_other_class(self, cls, name)\n\u001b[1;32m    509\u001b[0m \n\u001b[1;32m    510\u001b[0m def __dir__(self):\n",
      "File \u001b[0;32m/usr/lib/python3.12/site-packages/sage/cpython/getattr.pyx:363\u001b[0m, in \u001b[0;36msage.cpython.getattr.getattr_from_other_class (build/cythonized/sage/cpython/getattr.c:4462)\u001b[0;34m()\u001b[0m\n\u001b[1;32m    361\u001b[0m     dummy_error_message.cls = type(self)\n\u001b[1;32m    362\u001b[0m     dummy_error_message.name = name\n\u001b[0;32m--> 363\u001b[0m     raise AttributeError(dummy_error_message)\n\u001b[1;32m    364\u001b[0m attribute = <object>attr\n\u001b[1;32m    365\u001b[0m # Check for a descriptor (__get__ in Python)\n",
      "\u001b[0;31mAttributeError\u001b[0m: 'sage.rings.integer.Integer' object has no attribute 'monic'"
     ]
    }
   ],
   "source": [
    "from Crypto.Cipher import AES\n",
    "from Crypto.Random import get_random_bytes\n",
    "from Crypto.Util.Padding import pad, unpad\n",
    "from Crypto.Util.number import *\n",
    "from random import randint\n",
    "from tqdm import *\n",
    "from gmpy2 import *\n",
    "n = 21893667845527109228316610118621333675823865954095193222672967915642025227203723229301915138060460546292595757662045632313833065252021259298708556930356641\n",
    "c = 2996815411426852128253115724208577583573943783988804535123626654587265146030898624213251979946025036130503015799925878579561968447851305139980595420180938\n",
    "enc = b'\\x9a\\x11\\x86\\xb8\\x1a\\x1b-\\xa2\\x97\\xc9\\xf3\\xe2\\xfe\\xb8\\x19\\x00\\xea\\x8dO&\\x96\\x98\\xb1\\xca\\xcd/\\x86\\xe2\\x05\\xa4&\\xd4&\\\\\\x81\\x8a\\x9f\\x1b\\xa6I\\x1cSBv\\xbc\\xd4U\\xa6'\n",
    "e = 65537\n",
    "PR.<p> = PolynomialRing(Zmod(n*n))\n",
    "flag = 0\n",
    "for i in trange(2**10):\n",
    "    if isPrime(i):\n",
    "        for j in range(2, 11):\n",
    "            f = pow(p, 2)*pow(j, 2)+i*p-n\n",
    "            res = f.monic().small_roots()\n",
    "            if res and res != [0]:\n",
    "                print(res)\n",
    "                for p in res:\n",
    "                    if n % p == 0:\n",
    "                        p = int(p)\n",
    "                        q = n // p\n",
    "                        phi = (p-1)*(q-1)\n",
    "                        d = invert(e, phi)\n",
    "                        keys = long_to_bytes(pow(c, d, n))\n",
    "                        iv = keys[:16]\n",
    "                        key = keys[16:] \n",
    "                        dec = AES.new(key, AES.MODE_CBC, iv)\n",
    "                        flag = dec.decrypt(enc)\n",
    "                        print(flag)\n",
    "                        exit(0)\n",
    "\n",
    "# iroot(n, 2)"
   ]
  },
  {
   "cell_type": "code",
   "execution_count": 32,
   "id": "2ea23f4d-dd9f-4ab8-bbd2-37e36c3f4b49",
   "metadata": {},
   "outputs": [
    {
     "name": "stdout",
     "output_type": "stream",
     "text": [
      "109463919838778938149519892206578903495312424598592207716068109351515020013361\n",
      "1751422717420463010392318275305262455924998793577475323457089749624240320214323\n",
      "b'HnuSec{rs@_1s_3a5y}\\r\\r\\r\\r\\r\\r\\r\\r\\r\\r\\r\\r\\r'\n"
     ]
    }
   ],
   "source": [
    "from Crypto.Cipher import AES\n",
    "from Crypto.Random import get_random_bytes\n",
    "from Crypto.Util.Padding import pad, unpad\n",
    "from Crypto.Util.number import *\n",
    "from random import randint\n",
    "import gmpy2\n",
    "\n",
    "e = 65537\n",
    "n = 191717595943529939080963485152247768493008783862081145085121943059163173242307158994517645456035117319896136376270577036657564515955750114880628549843569603\n",
    "c = 160535659006357868081387098806133454234855953234801255672978833916220137292989660235012509829307417311787852792504065873329308737359708518453757460395912017\n",
    "enc = b'\\x94A\\xd9 \\x1a}\\x1d:\\x9b\\xfd\\x0f\\xa7\\x15W\\x8a8\\xf5\\xcf\\xda\\x19C\\'\\x01o\"\\x97\\xea\\x15;\\x82\\xa5\\x8e'\n",
    "t = False\n",
    "p = 0\n",
    "q = 0\n",
    "for i in range(2, 10):\n",
    "    z = 1 << 10\n",
    "    t = n // (i*i)\n",
    "    r, f = gmpy2.iroot(t, 2)\n",
    "    s = r\n",
    "    if(t == True):\n",
    "        break\n",
    "    while(r - s < z):\n",
    "        s -= 1\n",
    "        if(gmpy2.gcd(s, n) > 1):\n",
    "            t = True\n",
    "            p = s\n",
    "            q = n//p\n",
    "            break\n",
    "assert(p*q == n)\n",
    "print(p)\n",
    "print(q)\n",
    "phi = (p - 1) * (q - 1)\n",
    "d = gmpy2.invert(e, phi)\n",
    "keys = long_to_bytes(pow(c, d, n))\n",
    "iv = keys[:16]\n",
    "key = keys[16:] \n",
    "dec = AES.new(key, AES.MODE_CBC, iv)\n",
    "flag = dec.decrypt(enc)\n",
    "print(flag)\n"
   ]
  }
 ],
 "metadata": {
  "kernelspec": {
   "display_name": "SageMath 10.4",
   "language": "sage",
   "name": "sagemath"
  },
  "language_info": {
   "codemirror_mode": {
    "name": "ipython",
    "version": 3
   },
   "file_extension": ".py",
   "mimetype": "text/x-python",
   "name": "python",
   "nbconvert_exporter": "python",
   "pygments_lexer": "ipython3",
   "version": "3.12.4"
  }
 },
 "nbformat": 4,
 "nbformat_minor": 5
}
