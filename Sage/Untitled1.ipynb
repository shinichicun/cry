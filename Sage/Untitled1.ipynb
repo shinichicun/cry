{
 "cells": [
  {
   "cell_type": "code",
   "execution_count": 8,
   "metadata": {},
   "outputs": [
    {
     "ename": "NameError",
     "evalue": "name 'long_to_bytes' is not defined",
     "output_type": "error",
     "traceback": [
      "\u001b[0;31m---------------------------------------------------------------------------\u001b[0m",
      "\u001b[0;31mNameError\u001b[0m                                 Traceback (most recent call last)",
      "Cell \u001b[0;32mIn[8], line 74\u001b[0m\n\u001b[1;32m     72\u001b[0m s0\u001b[38;5;241m=\u001b[39m(s1\u001b[38;5;241m-\u001b[39mb)\u001b[38;5;241m*\u001b[39ma\u001b[38;5;241m*\u001b[39m\u001b[38;5;241m*\u001b[39m(\u001b[38;5;241m-\u001b[39mInteger(\u001b[38;5;241m1\u001b[39m))\n\u001b[1;32m     73\u001b[0m s0\u001b[38;5;241m=\u001b[39ms0\u001b[38;5;241m.\u001b[39mto_integer()\n\u001b[0;32m---> 74\u001b[0m \u001b[38;5;28mprint\u001b[39m(\u001b[43mlong_to_bytes\u001b[49m(\u001b[38;5;28mint\u001b[39m(s0)))\n",
      "\u001b[0;31mNameError\u001b[0m: name 'long_to_bytes' is not defined"
     ]
    }
   ],
   "source": [
    "from Crypto.Util.number import *\n",
    "\n",
    "def construct_poly_mul_mat(n, v, b):\n",
    "    assert v[-1] == 1  # use this after monic\n",
    "\n",
    "    # step1 construct a matrix of d=a*b\n",
    "    mat1 = Matrix(ZZ, n, 2 * n - 1)\n",
    "    for i in range(n):\n",
    "        for j in range(n):\n",
    "            mat1[i, j + i] = b[j]\n",
    "\n",
    "    # step2 construct a matrix of c=d%v\n",
    "    mat2 = Matrix(ZZ, 2 * n - 1, n)\n",
    "    for i in range(n):\n",
    "        mat2[i, i] = 1\n",
    "    for i in range(n, 2 * n - 1):\n",
    "        for j in range(i - n, n):\n",
    "            mat2[i, j] = -v[j - (i - n)]\n",
    "\n",
    "        init_row = vector(ZZ, n * [0])\n",
    "        for j in range(i - n):\n",
    "            temp = -v[n - 1 - j] * vector(ZZ, mat2[i - j - 1])\n",
    "            init_row += temp\n",
    "        for j in range(n):\n",
    "            mat2[i, j] += init_row[j]\n",
    "\n",
    "    # step3 multiply them and return\n",
    "    return mat1 * mat2\n",
    "\n",
    "out = [50, 32, 83, 12, 49, 34, 81, 101, 46, 108, 106, 57, 105, 115, 102, 51, 67, 34, 124, 15, 125, 117, 51, 124, 38, 10, 30, 76, 125, 27, 89, 14, 50, 93, 88, 56]\n",
    "out = [i<<57 for i in out]\n",
    "set_random_seed(1337)\n",
    "p = 6143872265871328074704442651454311068421530353607832481181\n",
    "pp = 18315300953692143461\n",
    "Fp = GF(p)\n",
    "a, b = Fp.random_element(), Fp.random_element()\n",
    "c = [out[3*i:3*i+3]for i in range(len(out)//3)]\n",
    "C = [Fp(i) for i in c]\n",
    "m = Fp.modulus().list()\n",
    "A = [a]\n",
    "for i in range(10):\n",
    "    A.append(A[-1]*a)\n",
    "AA = []\n",
    "for i in A:\n",
    "    AA.append(construct_poly_mul_mat(3,m,i.list()))\n",
    "B = [a*C[0]+b-C[1]]\n",
    "for i in range(10):\n",
    "    B.append(a*B[-1]+a*C[i+1]+b-C[i+2])\n",
    "BB=[]\n",
    "for i in B:\n",
    "    BB.extend(i)\n",
    "M = zero_matrix(ZZ, 37)\n",
    "I = identity_matrix(3)\n",
    "for i in range(len(BB)):\n",
    "    M[i,i]=pp\n",
    "    M[-1,i]=BB[i]\n",
    "for i in range(len(AA)+1):\n",
    "    if i<len(AA):\n",
    "        M[-4,3*i:3*(i+1)]=AA[i][0]\n",
    "        M[-3,3*i:3*(i+1)]=AA[i][1]\n",
    "        M[-2,3*i:3*(i+1)]=AA[i][2]\n",
    "    else:\n",
    "        M[-4,3*i:3*(i+1)]=I[0]\n",
    "        M[-3,3*i:3*(i+1)]=I[1]\n",
    "        M[-2,3*i:3*(i+1)]=I[2]\n",
    "M[-1,-1] = 2**64\n",
    "L=M.LLL()\n",
    "for L1 in L:\n",
    "    l=L1[-4:-1]\n",
    "    s1=[]\n",
    "    for i,j in zip(l,out[0:3]):\n",
    "        s1.append(i+j)\n",
    "    s1=Fp(s1)\n",
    "    s0=(s1-b)*a^(-1)\n",
    "    s0=s0.to_integer()\n",
    "    print(long_to_bytes(int(s0)))"
   ]
  },
  {
   "cell_type": "code",
   "execution_count": 17,
   "metadata": {},
   "outputs": [
    {
     "name": "stdout",
     "output_type": "stream",
     "text": [
      "-1\n",
      "25350625451533421162474265547571536103420331260232652121722452361537257541460235\n"
     ]
    }
   ],
   "source": [
    "from Crypto.Util.number import *\n",
    "from gmpy2 import *\n",
    "from tqdm import *\n",
    "\n",
    "p = 324556397741108806830285502585098109678766437252172614832253074632331911859471735318636292671562523\n",
    "c = 141624663734155235543198856069652171779130720945875442624943917912062658275440028763836569215230250\n",
    "\n",
    "prefix = b\"NSSCTF{\"\n",
    "suffix = b\"}\"\n",
    "length = 88 - len(prefix) - len(suffix)\n",
    "\n",
    "#part1 remove prefix and suffix\n",
    "c -= 256^(len(suffix) + length) * bytes_to_long(prefix)\n",
    "c -= bytes_to_long(suffix)\n",
    "c = c * inverse(256,p) % p\n",
    "\n",
    "L = Matrix(ZZ,length+2,length+2)\n",
    "for i in range(length):\n",
    "    L[i,i] = 1\n",
    "    L[i,-1] = 256^i\n",
    "    c -= 256^i*48\n",
    "    c -= 256^i*3\n",
    "\n",
    "L[-2,-2] = 1\n",
    "L[-2,-1] = -c\n",
    "L[-1,-1] = p\n",
    "L[:,-1:] *= p\n",
    "res = L.BKZ()\n",
    "flag = \"\"\n",
    "for i in res[:-1]:\n",
    "    # print(i)\n",
    "    if(all(abs(j) < 8 for j in i[:-2])):\n",
    "        print(i[-2])\n",
    "        for j in i[:-2][::-1]:\n",
    "            flag += chr(51 - j)\n",
    "        print(flag)"
   ]
  },
  {
   "cell_type": "code",
   "execution_count": 10,
   "metadata": {},
   "outputs": [
    {
     "name": "stdout",
     "output_type": "stream",
     "text": [
      "25350625451533421162474265547571536103420331260232652121722452361537257541460235\n"
     ]
    }
   ],
   "source": []
  }
 ],
 "metadata": {
  "kernelspec": {
   "display_name": "SageMath 10.4",
   "language": "sage",
   "name": "sagemath"
  },
  "language_info": {
   "codemirror_mode": {
    "name": "ipython",
    "version": 3
   },
   "file_extension": ".py",
   "mimetype": "text/x-python",
   "name": "python",
   "nbconvert_exporter": "python",
   "pygments_lexer": "ipython3",
   "version": "3.12.6"
  }
 },
 "nbformat": 4,
 "nbformat_minor": 4
}
