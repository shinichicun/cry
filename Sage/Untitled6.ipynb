{
 "cells": [
  {
   "cell_type": "code",
   "execution_count": 4,
   "metadata": {},
   "outputs": [
    {
     "name": "stdout",
     "output_type": "stream",
     "text": [
      "121\n",
      "122\n",
      "123\n",
      "124\n",
      "131\n",
      "132\n",
      "133\n",
      "134\n",
      "341\n",
      "342\n",
      "343\n",
      "344\n"
     ]
    }
   ],
   "source": [
    "from itertools import *\n",
    "c1 = [\"12\", \"13\", \"34\"]\n",
    "c2 = \"1234\"\n",
    "for i in product(c1, c2):\n",
    "    print(\"\".join(i))"
   ]
  }
 ],
 "metadata": {
  "kernelspec": {
   "display_name": "Python 3",
   "language": "python",
   "name": "python3"
  },
  "language_info": {
   "codemirror_mode": {
    "name": "ipython",
    "version": 3
   },
   "file_extension": ".py",
   "mimetype": "text/x-python",
   "name": "python",
   "nbconvert_exporter": "python",
   "pygments_lexer": "ipython3",
   "version": "3.7.10"
  }
 },
 "nbformat": 4,
 "nbformat_minor": 4
}
