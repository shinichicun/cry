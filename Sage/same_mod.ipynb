{
 "cells": [
  {
   "cell_type": "code",
   "execution_count": 2,
   "metadata": {},
   "outputs": [
    {
     "name": "stdout",
     "output_type": "stream",
     "text": [
      "b'NSSCTF{It all played out with my life on pause}'\n"
     ]
    }
   ],
   "source": [
    "from gmpy2 import *\n",
    "from Crypto.Util.number import *\n",
    "\n",
    "\n",
    "n = 80722936701364382749961243326484006977187702986017980842794443374132452156776306032868217795522046975068822236770836452911408536092460646410756678157902792329645719935468879960944028782788489463895870961967670931567205550383999951787250211085264314795753745003815839218062934564501884684565508432346164094171\n",
    "e1 = 3\n",
    "c1 = 77027474990431732719325428265107176934045610651944725251406683442684093440239073195437770144166442593914418380343458827052860752131667771506129334676070396374008929588455988149871039697387983766750148969695215583137356681988572655848921827794639096404716760310059622671470680330144220097050812716421370445797\n",
    "e2 = 7\n",
    "c2 = 13491956530007991248882899018888359080930858500993821006822695375714947537976202424265808646466853291165511243721829370428583392329886743499827454177786585477285598196204906977043127274613692623229137936467994670727274820568522666762615055848367486507714640497446688083840123758417442971555904294548595887600\n",
    "\n",
    "# g = gcd(e1,e2)\n",
    "_,s1,s2 = gcdext(e1,e2)               # 扩展欧几里得算法求出s1,s2的值，满足e1*s1 + e2*s2 = 1\n",
    "m = pow(c1,s1,n) * pow(c2,s2,n) % n   #这个算式最后的结果就是m\n",
    "print(long_to_bytes(m))"
   ]
  },
  {
   "cell_type": "code",
   "execution_count": 15,
   "metadata": {},
   "outputs": [
    {
     "name": "stdout",
     "output_type": "stream",
     "text": [
      "b'cnss{3xgcd ls_b4se0f number+th3ory}'\n"
     ]
    }
   ],
   "source": [
    "from Crypto.Util.number import *\n",
    "from gmpy2 import *\n",
    "from tqdm import * \n",
    "n = 6515170721824235610077767341836933885840875127391251414241431058649905695517146798474612659595551169142861886184506103913942899261023340287984546344722437\n",
    "e1 = 7629805664186543656889446705637291540349114025875443716836563834859596597787836018342790489334721556488151377780074075791508513529215301207684062773549978\n",
    "e2 = 9039921587803845152307464731958928360172176091850551461858009351504282865228004545395872265680096691496208319524680982403075570587404216482639595725937778\n",
    "c1 = 4051037378975864795768433612586859935577401638900306752031195646978965789412075981397854666117503427453968376495404896921769061877453267600673695437655064\n",
    "c2 = 1553033793693524308294676475858121205684586044416915406366461468291436664838155112756117928278740586233365774778368046411859650684761456474837957111920903\n",
    "g = gcd(e1,e2)\n",
    "_, s1, s2 = gcdext(e1, e2)\n",
    "m = int(powmod(c1, s1, n) * powmod(c2, s2, n) % n)\n",
    "FH = bytes_to_long(b\"cnss{\")\n",
    "FL = bytes_to_long(b\"th3ory}\")\n",
    "R.<x> = PolynomialRing(Zmod(n))\n",
    "f=(x*256^7+FL)^2-m\n",
    "res = f.monic().small_roots(X=2**225)\n",
    "if res:\n",
    "    print(long_to_bytes(int(res[0])*256^7+FL))"
   ]
  },
  {
   "cell_type": "code",
   "execution_count": 5,
   "metadata": {},
   "outputs": [
    {
     "data": {
      "text/plain": [
       "b'NSSCTF{cause we are the colors in the dark}'"
      ]
     },
     "execution_count": 5,
     "metadata": {},
     "output_type": "execute_result"
    }
   ],
   "source": [
    "from Crypto.Util.number import *\n",
    "from gmpy2 import *\n",
    "a = 1664525\n",
    "c = 1013904223\n",
    "m = 2**32\n",
    "key = int((3771924608-c)*invert(a, m)%m)\n",
    "def xor_encrypt_decrypt(data, key):\n",
    "\n",
    "    key_bytes = key.to_bytes((key.bit_length() + 7) // 8, 'big')\n",
    "    key_length = len(key_bytes)\n",
    "\n",
    "    result = bytearray()\n",
    "    for i in range(len(data)):\n",
    "        result.append(data[i] ^^ key_bytes[i % key_length])\n",
    "\n",
    "    return bytes(result)\n",
    "c = b\"n2!&t'\\t\\x06A\\x14\\x01\\x00\\x00\\x16\\x17EA\\x13\\x17ET\\t\\x17EC\\x0e\\x1e\\nR\\x12R\\x0cNA\\x06\\rEA\\x16\\x04R\\n\\x0f\"\n",
    "xor_encrypt_decrypt(c, key)"
   ]
  }
 ],
 "metadata": {
  "kernelspec": {
   "display_name": "SageMath 10.4",
   "language": "sage",
   "name": "sagemath"
  },
  "language_info": {
   "codemirror_mode": {
    "name": "ipython",
    "version": 3
   },
   "file_extension": ".py",
   "mimetype": "text/x-python",
   "name": "python",
   "nbconvert_exporter": "python",
   "pygments_lexer": "ipython3",
   "version": "3.12.7"
  }
 },
 "nbformat": 4,
 "nbformat_minor": 4
}
