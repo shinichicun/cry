{
 "cells": [
  {
   "cell_type": "code",
   "execution_count": 2,
   "metadata": {},
   "outputs": [
    {
     "name": "stdout",
     "output_type": "stream",
     "text": [
      "b'NSSCTF{p-1_smooth_with_factor}'\n"
     ]
    }
   ],
   "source": [
    "from Crypto.Util.number import *\n",
    "from gmpy2 import *\n",
    "\n",
    "n = 53763529836257082401813045869248978487210852880716446938539970599235060144454914000042178896730979463959004404421520555831136502171902051936080825853063287829\n",
    "e = 65537\n",
    "c = 50368170865606429432907125510556310647510431461588875539696416879298699197677994843344925466156992948241894107250131926237473102312181031875514294014181272618\n",
    "\n",
    "a = 2\n",
    "m = 2\n",
    "while True:\n",
    "    a = powmod(a, m, n)\n",
    "    p = gcd(a-1, n)\n",
    "    if p != 1 and p != n:\n",
    "        break\n",
    "    m += 1\n",
    "\n",
    "q = n // p\n",
    "\n",
    "phi = (p-1)*(q-1)\n",
    "d = invert(e, phi)\n",
    "m = powmod(c, d, n)\n",
    "print(long_to_bytes(m))"
   ]
  },
  {
   "cell_type": "code",
   "execution_count": null,
   "metadata": {},
   "outputs": [],
   "source": []
  }
 ],
 "metadata": {
  "kernelspec": {
   "display_name": "SageMath 9.3",
   "language": "sage",
   "name": "sagemath"
  },
  "language_info": {
   "codemirror_mode": {
    "name": "ipython",
    "version": 3
   },
   "file_extension": ".py",
   "mimetype": "text/x-python",
   "name": "python",
   "nbconvert_exporter": "python",
   "pygments_lexer": "ipython3",
   "version": "3.7.10"
  }
 },
 "nbformat": 4,
 "nbformat_minor": 4
}
